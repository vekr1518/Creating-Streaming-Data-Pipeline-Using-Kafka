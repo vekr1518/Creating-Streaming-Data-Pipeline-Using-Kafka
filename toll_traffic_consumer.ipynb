{
 "cells": [
  {
   "cell_type": "code",
   "execution_count": null,
   "id": "5a3a9a82",
   "metadata": {},
   "outputs": [],
   "source": [
    "pip install s3fs"
   ]
  },
  {
   "cell_type": "code",
   "execution_count": null,
   "id": "64b914d2",
   "metadata": {},
   "outputs": [],
   "source": [
    "from datetime import datetime\n",
    "from kafka import KafkaConsumer\n",
    "from s3fs import S3FileSystem\n",
    "from json import dumps, loads\n",
    "import json\n"
   ]
  },
  {
   "cell_type": "code",
   "execution_count": null,
   "id": "a43f700e",
   "metadata": {},
   "outputs": [],
   "source": [
    "consumer= KafkaConsumer('toll',\n",
    "                        bootstrap_servers=['18.215.147.6:9092'],\n",
    "                        )"
   ]
  },
  {
   "cell_type": "code",
   "execution_count": null,
   "id": "c34a75c3",
   "metadata": {},
   "outputs": [],
   "source": [
    "s3=S3FileSystem()"
   ]
  },
  {
   "cell_type": "code",
   "execution_count": null,
   "id": "1ed32cd8",
   "metadata": {},
   "outputs": [],
   "source": [
    "for count,msg in enumerate(consumer):\n",
    "    message = msg.value.decode(\"utf-8\")\n",
    "    with s3.open(\"s3://trafficdecongestkafka/toll_traffic_{}.csv\".format(count),'w') as file:\n",
    "        file.write(message + \"\\n\")\n",
    "        \n",
    "    #with s3.open(\"s3://trafficdecongestkafka/toll_traffic_{}.json\".format(count),'w') as file:\n",
    "        #json.dump(message,file)\n",
    "   "
   ]
  },
  {
   "cell_type": "code",
   "execution_count": null,
   "id": "b73d5445",
   "metadata": {},
   "outputs": [],
   "source": []
  },
  {
   "cell_type": "code",
   "execution_count": null,
   "id": "4a7dc50a",
   "metadata": {},
   "outputs": [],
   "source": []
  }
 ],
 "metadata": {
  "kernelspec": {
   "display_name": "Python 3 (ipykernel)",
   "language": "python",
   "name": "python3"
  },
  "language_info": {
   "codemirror_mode": {
    "name": "ipython",
    "version": 3
   },
   "file_extension": ".py",
   "mimetype": "text/x-python",
   "name": "python",
   "nbconvert_exporter": "python",
   "pygments_lexer": "ipython3",
   "version": "3.9.13"
  }
 },
 "nbformat": 4,
 "nbformat_minor": 5
}
