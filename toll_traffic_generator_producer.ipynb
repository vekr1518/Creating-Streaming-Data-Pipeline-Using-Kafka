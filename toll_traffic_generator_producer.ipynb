{
 "cells": [
  {
   "cell_type": "code",
   "execution_count": null,
   "id": "6478022d",
   "metadata": {},
   "outputs": [],
   "source": [
    "pip install kafka-python"
   ]
  },
  {
   "cell_type": "code",
   "execution_count": null,
   "id": "c0708f5b",
   "metadata": {},
   "outputs": [],
   "source": [
    "from kafka import KafkaProducer\n",
    "from time import *\n",
    "from random import random, randint,choice"
   ]
  },
  {
   "cell_type": "code",
   "execution_count": null,
   "id": "0990d9ae",
   "metadata": {},
   "outputs": [],
   "source": [
    "producer= KafkaProducer(bootstrap_servers='18.215.147.6:9092')"
   ]
  },
  {
   "cell_type": "code",
   "execution_count": null,
   "id": "d6355d6e",
   "metadata": {},
   "outputs": [],
   "source": [
    "TOPIC = 'toll'"
   ]
  },
  {
   "cell_type": "code",
   "execution_count": null,
   "id": "7c067408",
   "metadata": {},
   "outputs": [],
   "source": [
    "VEHICLE_TYPES = (\"car\", \"car\", \"bus\", \"car\", \"car\", \"van\", \"car\", \"car\",\n",
    "                 \"car\", \"car\", \"car\", \"truck\", \"truck\", \"truck\",\n",
    "                 \"truck\", \"van\", \"van\")"
   ]
  },
  {
   "cell_type": "code",
   "execution_count": null,
   "id": "f94cc8a2",
   "metadata": {},
   "outputs": [],
   "source": [
    "for _ in range(100):\n",
    "    vehicle_id = randint(1000, 5000)\n",
    "    vehicle_type = choice(VEHICLE_TYPES)\n",
    "    now = ctime(time())\n",
    "    toll_id = randint(1, 10)\n",
    "    message = f\"{now},{vehicle_id},{vehicle_type},{toll_id}\"\n",
    "    message = bytearray(message.encode(\"utf-8\"))\n",
    "    print(f\"A {vehicle_type} has passed by the toll plaza {toll_id} at {now}.\")\n",
    "    producer.send(TOPIC, message)\n",
    "    sleep(random() * 2)\n",
    "    \n",
    "    "
   ]
  },
  {
   "cell_type": "code",
   "execution_count": null,
   "id": "ab255194",
   "metadata": {},
   "outputs": [],
   "source": [
    "producer.flush()"
   ]
  },
  {
   "cell_type": "code",
   "execution_count": null,
   "id": "492dcc74",
   "metadata": {},
   "outputs": [],
   "source": []
  }
 ],
 "metadata": {
  "kernelspec": {
   "display_name": "Python 3 (ipykernel)",
   "language": "python",
   "name": "python3"
  },
  "language_info": {
   "codemirror_mode": {
    "name": "ipython",
    "version": 3
   },
   "file_extension": ".py",
   "mimetype": "text/x-python",
   "name": "python",
   "nbconvert_exporter": "python",
   "pygments_lexer": "ipython3",
   "version": "3.9.13"
  }
 },
 "nbformat": 4,
 "nbformat_minor": 5
}
